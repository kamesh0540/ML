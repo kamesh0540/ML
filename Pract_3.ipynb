{
 "cells": [
  {
   "cell_type": "markdown",
   "metadata": {},
   "source": [
    "# Practical - 3 \n",
    "## Aim:\n",
    "Introduction to Tensors, TensorFlow Basic Syntax, TensorFlow Graphs, Variables and Placeholders\n",
    "\n",
    "## Problem Definition:\n",
    "Implement the basic syntax of tensor flow to develop an understanding of it.\n",
    "\n",
    "## Theory\n",
    "1. Tensors in TensorFlow: Understand what tensors are and how TensorFlow uses them to represent data. You'll learn about the static type, rank, and shape of tensors.\n",
    "\n",
    "2. TensorFlow Data Types: Explore basic data types in TensorFlow, including integers, floats, booleans, and strings. You'll also learn how to cast between data types.\n",
    "\n",
    "3. TensorFlow Constants: Create constant tensors using TensorFlow. This involves defining tensors with specific values and data types.\n",
    "\n",
    "4. TensorFlow Variables: Understand how TensorFlow variables work and how they are used to represent shared, persistent state that can be manipulated by your program.\n",
    "\n",
    "5. Machine Learning Workflow with tf.keras: Explore the steps involved in a typical machine learning workflow using tf.keras, including preparing training data, defining a model, configuring training, and training the model.\n",
    "\n",
    "6. tf.keras Built-in Datasets: Learn about the built-in datasets provided by tf.keras, which you can use for training and testing deep neural network models. Some example datasets include Boston Housing, CIFAR-100, MNIST, Fashion-MNIST, and Reuters News.\n",
    "\n",
    "7. Creating a tf.keras Model: Create a tf.keras model using the Sequential model type. You'll work with layers, define the architecture, and specify input dimensions.\n",
    "\n",
    "8. Compiling a tf.keras Model: Configure the learning process of the model before training. This includes setting the optimizer, loss function, and measurement metrics.\n",
    "\n",
    "9. Training and Evaluating a tf.keras Model: Train the tf.keras model on input data and labels. You'll use the fit function with hyperparameters like the number of epochs and batch size. The evaluate function is used to assess the model's performance.\n",
    "\n",
    "10. Making Predictions: Once the model is trained, you can use the predict function to generate predictions for input samples. You'll also learn how to get model weights, save and load model weights."
   ]
  },
  {
   "cell_type": "code",
   "execution_count": 1,
   "metadata": {},
   "outputs": [],
   "source": [
    "import tensorflow as tf\n",
    "import numpy as np\n",
    "import pandas as pd\n",
    "import seaborn as sb\n",
    "import matplotlib.pyplot as plt"
   ]
  },
  {
   "cell_type": "code",
   "execution_count": 2,
   "metadata": {},
   "outputs": [],
   "source": [
    "# Create a constant tensor\n",
    "tensor_a = tf.constant(5.0)"
   ]
  },
  {
   "cell_type": "code",
   "execution_count": 4,
   "metadata": {},
   "outputs": [
    {
     "name": "stdout",
     "output_type": "stream",
     "text": [
      "tf.Tensor(5.0, shape=(), dtype=float32)\n",
      "tf.Tensor(1.0, shape=(), dtype=float32)\n",
      "tf.Tensor(6.0, shape=(), dtype=float32)\n",
      "tf.Tensor(1.5, shape=(), dtype=float32)\n"
     ]
    }
   ],
   "source": [
    "# Create two constant tensors\n",
    "tensor_b = tf.constant(3.0)\n",
    "tensor_c = tf.constant(2.0)\n",
    "\n",
    "# Perform operations\n",
    "print(tf.add(tensor_b, tensor_c) ) # Addition\n",
    "print(tf.subtract(tensor_b, tensor_c) ) # Substract\n",
    "print(tf.multiply(tensor_b, tensor_c) ) # Multiply\n",
    "print(tf.divide(tensor_b, tensor_c)  )# Divide"
   ]
  },
  {
   "cell_type": "markdown",
   "metadata": {},
   "source": [
    "#### TensorFlow Graphs\n",
    "In TensorFlow, computation is represented as a directed graph. A graph defines the operations and their dependencies. Here's how you can build a graph:"
   ]
  },
  {
   "cell_type": "code",
   "execution_count": 5,
   "metadata": {},
   "outputs": [],
   "source": [
    "# Create a graph\n",
    "graph = tf.Graph()\n",
    "\n",
    "# Set this graph as the default graph\n",
    "with graph.as_default():\n",
    "    # Define operations\n",
    "    tensor_a = tf.constant(5.0)\n",
    "    tensor_b = tf.constant(3.0)\n",
    "    result = tf.add(tensor_a, tensor_b)\n"
   ]
  },
  {
   "cell_type": "markdown",
   "metadata": {},
   "source": [
    "In the code above, we create a custom graph, set it as the default graph, and then define operations within that graph."
   ]
  },
  {
   "cell_type": "markdown",
   "metadata": {},
   "source": [
    "#### Variables and Placeholders\n",
    "1. Variables: In machine learning, we often need to update parameters during training. TensorFlow provides tf.Variable for this purpose. Here's how to create a variable:"
   ]
  },
  {
   "cell_type": "code",
   "execution_count": 7,
   "metadata": {},
   "outputs": [],
   "source": [
    "# Create a variable\n",
    "initial_value = 1\n",
    "my_variable = tf.Variable(initial_value)"
   ]
  },
  {
   "cell_type": "markdown",
   "metadata": {},
   "source": [
    "2. Placeholders: Placeholders are used to feed external data into TensorFlow graphs. They act as input nodes in the graph. You need to specify their data type. Here's how you can use a placeholder:"
   ]
  },
  {
   "cell_type": "code",
   "execution_count": 15,
   "metadata": {},
   "outputs": [],
   "source": [
    "# Create a placeholder\n",
    "dtype = tf.float32\n",
    "shape = ()\n",
    "# Enable compatibility mode for TensorFlow 1.x\n",
    "tf.compat.v1.disable_eager_execution()\n",
    "my_placeholder = tf.compat.v1.placeholder(dtype, shape)\n"
   ]
  },
  {
   "cell_type": "markdown",
   "metadata": {},
   "source": [
    "#### Session and Execution\n",
    "To run operations and evaluate tensors, you need to create a session:"
   ]
  },
  {
   "cell_type": "code",
   "execution_count": 17,
   "metadata": {},
   "outputs": [
    {
     "name": "stdout",
     "output_type": "stream",
     "text": [
      "5\n"
     ]
    }
   ],
   "source": [
    "import tensorflow as tf\n",
    "\n",
    "# Create a TensorFlow 1.x style session\n",
    "with tf.compat.v1.Session() as sess:\n",
    "    a = tf.constant(2)\n",
    "    b = tf.constant(3)\n",
    "    result = a + b\n",
    "    print(sess.run(result))  # Execute the operation within the session\n"
   ]
  },
  {
   "cell_type": "markdown",
   "metadata": {},
   "source": [
    "#### Datatypes"
   ]
  },
  {
   "cell_type": "code",
   "execution_count": 18,
   "metadata": {},
   "outputs": [
    {
     "name": "stdout",
     "output_type": "stream",
     "text": [
      "Scalar Int Tensor: Tensor(\"Const_2:0\", shape=(), dtype=int32)\n",
      "Scalar Float Tensor: Tensor(\"Const_3:0\", shape=(), dtype=float32)\n",
      "Scalar Bool Tensor: Tensor(\"Const_4:0\", shape=(), dtype=bool)\n",
      "Scalar String Tensor: Tensor(\"Const_5:0\", shape=(), dtype=string)\n",
      "Converted Float Tensor: Tensor(\"Cast:0\", shape=(), dtype=float32)\n"
     ]
    }
   ],
   "source": [
    "import tensorflow as tf\n",
    "\n",
    "# Define tensors with various data types\n",
    "# Scalars\n",
    "scalar_int = tf.constant(5, dtype=tf.int32)\n",
    "scalar_float = tf.constant(3.14, dtype=tf.float32)\n",
    "scalar_bool = tf.constant(True, dtype=tf.bool)\n",
    "scalar_string = tf.constant(\"Hello, TensorFlow!\", dtype=tf.string)\n",
    "\n",
    "# Print tensors\n",
    "print(\"Scalar Int Tensor:\", scalar_int)\n",
    "print(\"Scalar Float Tensor:\", scalar_float)\n",
    "print(\"Scalar Bool Tensor:\", scalar_bool)\n",
    "print(\"Scalar String Tensor:\", scalar_string)\n",
    "\n",
    "# You can also convert data types using tf.cast()\n",
    "converted_float = tf.cast(scalar_int, dtype=tf.float32)\n",
    "\n",
    "# Print the converted tensor\n",
    "print(\"Converted Float Tensor:\", converted_float)\n"
   ]
  }
 ],
 "metadata": {
  "kernelspec": {
   "display_name": "Python 3",
   "language": "python",
   "name": "python3"
  },
  "language_info": {
   "codemirror_mode": {
    "name": "ipython",
    "version": 3
   },
   "file_extension": ".py",
   "mimetype": "text/x-python",
   "name": "python",
   "nbconvert_exporter": "python",
   "pygments_lexer": "ipython3",
   "version": "3.11.6"
  }
 },
 "nbformat": 4,
 "nbformat_minor": 2
}
